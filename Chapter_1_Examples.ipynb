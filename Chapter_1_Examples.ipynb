{
  "nbformat": 4,
  "nbformat_minor": 0,
  "metadata": {
    "colab": {
      "provenance": [],
      "authorship_tag": "ABX9TyPhtKaYV0sERZLhBrUH1Enm",
      "include_colab_link": true
    },
    "kernelspec": {
      "name": "python3",
      "display_name": "Python 3"
    },
    "language_info": {
      "name": "python"
    }
  },
  "cells": [
    {
      "cell_type": "markdown",
      "metadata": {
        "id": "view-in-github",
        "colab_type": "text"
      },
      "source": [
        "<a href=\"https://colab.research.google.com/github/ThomasParkerr/Intro-to-modelling-CHAPTER-Examples/blob/main/Chapter_1_Examples.ipynb\" target=\"_parent\"><img src=\"https://colab.research.google.com/assets/colab-badge.svg\" alt=\"Open In Colab\"/></a>"
      ]
    },
    {
      "cell_type": "code",
      "execution_count": 1,
      "metadata": {
        "colab": {
          "base_uri": "https://localhost:8080/",
          "height": 106
        },
        "id": "QglHXyhvF_ry",
        "outputId": "11f755d0-9eba-4d9c-e18b-3eae67f36a9c"
      },
      "outputs": [
        {
          "output_type": "error",
          "ename": "SyntaxError",
          "evalue": "invalid syntax (<ipython-input-1-6492fea3f1e8>, line 1)",
          "traceback": [
            "\u001b[0;36m  File \u001b[0;32m\"<ipython-input-1-6492fea3f1e8>\"\u001b[0;36m, line \u001b[0;32m1\u001b[0m\n\u001b[0;31m    v = a t\u001b[0m\n\u001b[0m          ^\u001b[0m\n\u001b[0;31mSyntaxError\u001b[0m\u001b[0;31m:\u001b[0m invalid syntax\n"
          ]
        }
      ],
      "source": [
        "v = a t"
      ]
    },
    {
      "cell_type": "code",
      "source": [
        "#from numpy import sin, cos, pi\n",
        "#import math\n",
        "\n",
        "result = math.sin(math.pi / 4)**2 + math.cos(math.pi / 4)**2\n",
        "print(result)\n"
      ],
      "metadata": {
        "colab": {
          "base_uri": "https://localhost:8080/"
        },
        "id": "EzFg3S2WHlN0",
        "outputId": "f2bef759-2b24-468b-ef2c-11fc2dce232a"
      },
      "execution_count": 10,
      "outputs": [
        {
          "output_type": "stream",
          "name": "stdout",
          "text": [
            "1.0\n"
          ]
        }
      ]
    },
    {
      "cell_type": "code",
      "source": [
        "pip install pint"
      ],
      "metadata": {
        "colab": {
          "base_uri": "https://localhost:8080/"
        },
        "id": "sFIcioO3KYbA",
        "outputId": "9e5fddc8-0c64-4bf2-9322-737c2c0371f6"
      },
      "execution_count": 15,
      "outputs": [
        {
          "output_type": "stream",
          "name": "stdout",
          "text": [
            "Collecting pint\n",
            "  Downloading Pint-0.24.4-py3-none-any.whl.metadata (8.5 kB)\n",
            "Requirement already satisfied: platformdirs>=2.1.0 in /usr/local/lib/python3.11/dist-packages (from pint) (4.3.6)\n",
            "Requirement already satisfied: typing-extensions>=4.0.0 in /usr/local/lib/python3.11/dist-packages (from pint) (4.12.2)\n",
            "Collecting flexcache>=0.3 (from pint)\n",
            "  Downloading flexcache-0.3-py3-none-any.whl.metadata (7.0 kB)\n",
            "Collecting flexparser>=0.4 (from pint)\n",
            "  Downloading flexparser-0.4-py3-none-any.whl.metadata (18 kB)\n",
            "Downloading Pint-0.24.4-py3-none-any.whl (302 kB)\n",
            "\u001b[2K   \u001b[90m━━━━━━━━━━━━━━━━━━━━━━━━━━━━━━━━━━━━━━━━\u001b[0m \u001b[32m302.0/302.0 kB\u001b[0m \u001b[31m7.6 MB/s\u001b[0m eta \u001b[36m0:00:00\u001b[0m\n",
            "\u001b[?25hDownloading flexcache-0.3-py3-none-any.whl (13 kB)\n",
            "Downloading flexparser-0.4-py3-none-any.whl (27 kB)\n",
            "Installing collected packages: flexparser, flexcache, pint\n",
            "Successfully installed flexcache-0.3 flexparser-0.4 pint-0.24.4\n"
          ]
        }
      ]
    },
    {
      "cell_type": "code",
      "source": [
        "from pint import UnitRegistry\n",
        "\n",
        "units = UnitRegistry()\n",
        "\n",
        "# Define the variable 'foot' as the unit foot\n",
        "foot = units.foot\n",
        "\n",
        "# Define the height of the pole\n",
        "pole_height = 10 * foot"
      ],
      "metadata": {
        "id": "gxsabIxzNxzJ"
      },
      "execution_count": 19,
      "outputs": []
    },
    {
      "cell_type": "code",
      "source": [
        "h = 381 * units.meter\n",
        "\n",
        "total_height_1 = h + pole_height\n",
        "\n",
        "total_height_2 = pole_height + h\n",
        "\n",
        "print(f\"Total height when adding h + the pole height: {total_height_1}\")\n",
        "print(f\"Total height when adding  the pole height + h: {total_height_2}\")\n",
        "\n"
      ],
      "metadata": {
        "colab": {
          "base_uri": "https://localhost:8080/"
        },
        "id": "qD_UaDiVOPSj",
        "outputId": "cdb13c04-1889-4903-bd79-7eb807ded0d7"
      },
      "execution_count": 20,
      "outputs": [
        {
          "output_type": "stream",
          "name": "stdout",
          "text": [
            "Total height when adding h + the pole height: 384.048 meter\n",
            "Total height when adding  the pole height + h: 1260.0 foot\n"
          ]
        }
      ]
    },
    {
      "cell_type": "code",
      "source": [
        "a = 9.8 * units.meter/units.second**2\n",
        "t = 3.4 * units.second\n",
        "#a+t"
      ],
      "metadata": {
        "id": "i4KnEE7gOzPt"
      },
      "execution_count": 22,
      "outputs": []
    },
    {
      "cell_type": "code",
      "source": [
        "velocity = 29\n",
        "total_distance = 381\n",
        "time = total_distance/velocity\n",
        "print(time,  \" seconds\")"
      ],
      "metadata": {
        "colab": {
          "base_uri": "https://localhost:8080/"
        },
        "id": "NrWwO712cDdu",
        "outputId": "cfd1421e-604b-4049-f654-0b4806a5b83f"
      },
      "execution_count": 24,
      "outputs": [
        {
          "output_type": "stream",
          "name": "stdout",
          "text": [
            "13.137931034482758  seconds\n"
          ]
        }
      ]
    },
    {
      "cell_type": "code",
      "source": [
        "#Units\n",
        "a = 9.8 * units.meter / units.second**2  # Acceleration due to gravity\n",
        "const_vel = 29 * units.meter / units.second    # Terminal velocity\n",
        "h = 381 * units.meter              # Total distance"
      ],
      "metadata": {
        "id": "eSJwuS-Wcy8r"
      },
      "execution_count": 33,
      "outputs": []
    },
    {
      "cell_type": "code",
      "source": [
        "# Part 1: Time to reach terminal velocity\n",
        "t1 = const_vel / a  # Time to reach terminal velocity"
      ],
      "metadata": {
        "id": "fy_2QnL2gfJQ"
      },
      "execution_count": 34,
      "outputs": []
    },
    {
      "cell_type": "code",
      "source": [
        "# Part 2: Distance fallen during acceleration\n",
        "x1 = 0.5 * a * t1**2  # Distance during acceleration"
      ],
      "metadata": {
        "id": "JvhTu1N5gki5"
      },
      "execution_count": 35,
      "outputs": []
    },
    {
      "cell_type": "code",
      "source": [
        "# Part 3: Remaining distance and time to fall it at constant velocity\n",
        "x2 = h - x1  # Remaining distance\n",
        "t2 = x2 / const_vel      # Time to fall remaining distance"
      ],
      "metadata": {
        "id": "LtmooicrgoU3"
      },
      "execution_count": 37,
      "outputs": []
    },
    {
      "cell_type": "code",
      "source": [
        "# Total time\n",
        "t_total = t1 + t2\n",
        "\n",
        "# Results with units\n",
        "results = {\n",
        "    \"Time to reach terminal velocity (t1)\": t1,\n",
        "    \"Distance fallen during acceleration (x1)\": x1,\n",
        "    \"Remaining distance (x2)\": x2,\n",
        "    \"Time to fall remaining distance (t2)\": t2,\n",
        "    \"Total time (t_total)\": t_total\n",
        "}\n",
        "\n",
        "# Display results\n",
        "results"
      ],
      "metadata": {
        "colab": {
          "base_uri": "https://localhost:8080/"
        },
        "id": "7HqzuTi6gumS",
        "outputId": "a80b0154-36fc-4744-dbeb-bf40313f56a3"
      },
      "execution_count": 38,
      "outputs": [
        {
          "output_type": "execute_result",
          "data": {
            "text/plain": [
              "{'Time to reach terminal velocity (t1)': <Quantity(2.95918367, 'second')>,\n",
              " 'Distance fallen during acceleration (x1)': <Quantity(42.9081633, 'meter')>,\n",
              " 'Remaining distance (x2)': <Quantity(338.091837, 'meter')>,\n",
              " 'Time to fall remaining distance (t2)': <Quantity(11.6583392, 'second')>,\n",
              " 'Total time (t_total)': <Quantity(14.6175229, 'second')>}"
            ]
          },
          "metadata": {},
          "execution_count": 38
        }
      ]
    },
    {
      "cell_type": "code",
      "source": [
        "import numpy as np\n",
        "import matplotlib.pyplot as plt\n",
        "\n",
        "# Constants\n",
        "g = 9.81  # Acceleration due to gravity (m/s^2)\n",
        "v0 = 40   # Initial velocity (m/s)\n",
        "theta = 15  # Release angle (degrees)\n",
        "y0 = 2  # Initial height of release (meters)\n",
        "\n",
        "# Convert angle to radians\n",
        "theta_rad = np.radians(theta)\n",
        "\n",
        "# Initial velocity components\n",
        "v0x = v0 * np.cos(theta_rad)  # Horizontal velocity (m/s)\n",
        "v0y = v0 * np.sin(theta_rad)  # Vertical velocity (m/s)\n",
        "\n",
        "# Time of flight (total time until the ball hits the ground)\n",
        "t_flight = (v0y + np.sqrt(v0y**2 + 2 * g * y0)) / g\n",
        "\n",
        "# Time values from 0 to time of flight\n",
        "t = np.linspace(0, t_flight, num=500)\n",
        "\n",
        "# Equations of motion\n",
        "x = v0x * t  # Horizontal displacement\n",
        "y = y0 + v0y * t - 0.5 * g * t**2  # Vertical displacement\n",
        "\n",
        "# Plotting the trajectory\n",
        "plt.figure(figsize=(8, 6))\n",
        "plt.plot(x, y)\n",
        "plt.title('Projectile Motion of Fastball')\n",
        "plt.xlabel('Horizontal Distance (m)')\n",
        "plt.ylabel('Vertical Distance (m)')\n",
        "plt.grid(True)\n",
        "plt.axhline(0, color='black',linewidth=1)\n",
        "plt.axvline(0, color='black',linewidth=1)\n",
        "plt.show()\n",
        "\n",
        "# Determine the initial angle direction (upward or downward)\n",
        "if theta > 0:\n",
        "    print(\"The ball leaves the pitcher's hand at an upward angle.\")\n",
        "else:\n",
        "    print(\"The ball leaves the pitcher's hand at a downward angle.\")\n"
      ],
      "metadata": {
        "colab": {
          "base_uri": "https://localhost:8080/",
          "height": 601
        },
        "id": "JW2UPsuUlmk5",
        "outputId": "b161e921-afa3-4194-fc4e-5dab6738f1d6"
      },
      "execution_count": 40,
      "outputs": [
        {
          "output_type": "display_data",
          "data": {
            "text/plain": [
              "<Figure size 800x600 with 1 Axes>"
            ],
            "image/png": "[encoded data removed]"
          },
          "metadata": {}
        },
        {
          "output_type": "stream",
          "name": "stdout",
          "text": [
            "The ball leaves the pitcher's hand at an upward angle.\n"
          ]
        }
      ]
    },
    {
      "cell_type": "code",
      "source": [
        "mile = units.mile\n",
        "kilometer = units.kilometer\n",
        "minute = units.minute"
      ],
      "metadata": {
        "id": "PKLtopwFngea"
      },
      "execution_count": 51,
      "outputs": []
    },
    {
      "cell_type": "code",
      "source": [
        "minutes = ((44*60)+52)/60\n",
        "\n",
        "pace = minutes/((10)*0.621371)\n",
        "print(pace, \"minutes/mile\")"
      ],
      "metadata": {
        "colab": {
          "base_uri": "https://localhost:8080/"
        },
        "id": "OM6DlDzfnuzO",
        "outputId": "57ee1d2e-a53d-4705-8341-6632960c0fbc"
      },
      "execution_count": 53,
      "outputs": [
        {
          "output_type": "stream",
          "name": "stdout",
          "text": [
            "7.220592313877968 minutes/mile\n"
          ]
        }
      ]
    }
  ]
}